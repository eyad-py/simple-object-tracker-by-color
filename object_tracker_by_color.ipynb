{
 "cells": [
  {
   "cell_type": "markdown",
   "metadata": {},
   "source": [
    "## **Imports**"
   ]
  },
  {
   "cell_type": "code",
   "execution_count": 1,
   "metadata": {},
   "outputs": [],
   "source": [
    "import cv2 \n",
    "import numpy as np "
   ]
  },
  {
   "cell_type": "markdown",
   "metadata": {},
   "source": [
    "## **Code blocks**"
   ]
  },
  {
   "cell_type": "code",
   "execution_count": 2,
   "metadata": {},
   "outputs": [],
   "source": [
    "def color_detect(lower,upper):# a function that opens the camera and detects the color of objects \n",
    "    cap = cv2.VideoCapture(0)# 0 for your main camera # 1 for the second camera [ usb]\n",
    "\n",
    "    while(1):\n",
    "        _, frame = cap.read()# reading each frame ( \"ret\" is a boolean if reading is done correctly or not, the \"frame\" is the image)\n",
    "        hsv = cv2.cvtColor(frame, cv2.COLOR_BGR2HSV)# convert from BGR to HSV color space\n",
    "        mask = cv2.inRange(hsv, lower, upper) # Threshold the HSV image to get colors\n",
    "        res = cv2.bitwise_and(frame,frame, mask= mask)# result of adding the original frame and mask together\n",
    "\n",
    "        cv2.imshow('frame',frame)# show the original video\n",
    "        cv2.imshow('mask',mask)# show the mask\n",
    "        cv2.imshow('res',res)# show the result\n",
    "\n",
    "        if cv2.waitKey(10) & 0xFF == ord('q'):# 0xFF is a hexadecimal constant which is 11111111 in binary.\n",
    "            break                             # By using bitwise AND (&) with this constant,\n",
    "                                              # it leaves only the last 8 bits of the original                                               \n",
    "    cv2.destroyAllWindows()# to release hardware resources. (the camera here) \n",
    "    cap.release()# closing all windows\n",
    "    \n",
    "def object_tracker():# a function that takes the color from the user and calls the color_detect function to track the object\n",
    "    while 1:\n",
    "        x = input('please input if the object color is red, green or blue ==> ') # take object color ass an input from user\n",
    "        x = x.lower() # make all letters lower case \n",
    "        y = x.split() # splitting user input to words \n",
    "        if y[0] == 'red': #take the first word and compare it with 'red' \n",
    "            lower = np.array([0,50,100]) # the lower bound of the color range in hsv color space\n",
    "            upper = np.array([25,255,255]) # the higher bound of the color range in hsv color space\n",
    "            color_detect(lower,upper) # color detect function calling\n",
    "            break #breaking the loop\n",
    "        elif y[0] == 'green': #take the first word and compare it with 'green'\n",
    "            lower = np.array([40,50,50]) # the lower bound of the color range in hsv color space\n",
    "            upper = np.array([70,255,255]) # the higher bound of the color range in hsv color space\n",
    "            color_detect(lower,upper) # color detect function calling\n",
    "            break#breaking the loop\n",
    "        elif y[0] == 'blue': #take the first word and compare it with 'blue'\n",
    "            lower = np.array([90,50,50]) # the lower bound of the color range in hsv color space\n",
    "            upper = np.array([120,255,255]) # the higher bound of the color range in hsv color space\n",
    "            color_detect(lower,upper) # color detect function calling\n",
    "            break#breaking the loop\n",
    "        else:\n",
    "            print('invalid color') # If the user enters anything except these three colors print \"invalid color\""
   ]
  },
  {
   "cell_type": "code",
   "execution_count": 15,
   "metadata": {},
   "outputs": [
    {
     "name": "stdin",
     "output_type": "stream",
     "text": [
      "please input if the object color is red, green or blue ==>  blue\n"
     ]
    }
   ],
   "source": [
    "object_tracker()"
   ]
  },
  {
   "cell_type": "code",
   "execution_count": null,
   "metadata": {},
   "outputs": [],
   "source": []
  }
 ],
 "metadata": {
  "kernelspec": {
   "display_name": "Python 3",
   "language": "python",
   "name": "python3"
  },
  "language_info": {
   "codemirror_mode": {
    "name": "ipython",
    "version": 3
   },
   "file_extension": ".py",
   "mimetype": "text/x-python",
   "name": "python",
   "nbconvert_exporter": "python",
   "pygments_lexer": "ipython3",
   "version": "3.8.5"
  }
 },
 "nbformat": 4,
 "nbformat_minor": 4
}
